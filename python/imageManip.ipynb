{
 "cells": [
  {
   "cell_type": "code",
   "execution_count": 10,
   "id": "11b4f553",
   "metadata": {},
   "outputs": [
    {
     "name": "stdout",
     "output_type": "stream",
     "text": [
      "Saved transparent PNG to ../public/Tyro.png\n"
     ]
    }
   ],
   "source": [
    "from PIL import Image\n",
    "\n",
    "def make_background_transparent(input_path, output_path, threshold=240):\n",
    "    \"\"\"\n",
    "    Convert white background to transparent.\n",
    "    \n",
    "    Parameters:\n",
    "    input_path: Path to the input PNG file\n",
    "    output_path: Path to save the output PNG file\n",
    "    threshold: RGB value threshold (pixels with RGB values above this will be made transparent)\n",
    "    \"\"\"\n",
    "    # Open the image\n",
    "    img = Image.open(input_path)\n",
    "    \n",
    "    # Convert to RGBA if not already\n",
    "    if img.mode != 'RGBA':\n",
    "        img = img.convert('RGBA')\n",
    "    \n",
    "    # Get the data\n",
    "    data = img.getdata()\n",
    "    \n",
    "    # Create a new data list with transparent pixels where white\n",
    "    new_data = []\n",
    "    for item in data:\n",
    "        # Check if pixel is white or near white (based on threshold)\n",
    "        if item[0] >= threshold and item[1] >= threshold and item[2] >= threshold:\n",
    "            # Make it transparent (0 alpha)\n",
    "            new_data.append((255, 255, 255, 0))\n",
    "        else:\n",
    "            # Keep the original pixel\n",
    "            new_data.append(item)\n",
    "    \n",
    "    # Update image data\n",
    "    img.putdata(new_data)\n",
    "    \n",
    "    # Save the image\n",
    "    img.save(output_path, \"PNG\")\n",
    "    print(f\"Saved transparent PNG to {output_path}\")\n",
    "\n",
    "# Example usage\n",
    "make_background_transparent(\"../public/Tyro.jpg\", \"../public/Tyro.png\")"
   ]
  }
 ],
 "metadata": {
  "kernelspec": {
   "display_name": "base",
   "language": "python",
   "name": "python3"
  },
  "language_info": {
   "codemirror_mode": {
    "name": "ipython",
    "version": 3
   },
   "file_extension": ".py",
   "mimetype": "text/x-python",
   "name": "python",
   "nbconvert_exporter": "python",
   "pygments_lexer": "ipython3",
   "version": "3.9.13"
  }
 },
 "nbformat": 4,
 "nbformat_minor": 5
}
